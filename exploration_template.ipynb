{
 "cells": [
  {
   "cell_type": "markdown",
   "metadata": {},
   "source": [
    "# (Ford GoBike System Data)\n",
    "## by (Marwa Ibrahim Alalfi)\n",
    "\n",
    "## Preliminary Wrangling\n",
    "\n",
    "> This dataset contains trips data of the fordgo bike rental system. An initial exploration will be done and follow it with data cleaning phase in order to clearly visualize data and discover insights and trends.\n",
    "\n",
    "\n",
    "# import all packages and set plots to be embedded inline\n"
   ]
  },
  {
   "cell_type": "code",
   "execution_count": 94,
   "metadata": {},
   "outputs": [],
   "source": [
    "import numpy as np\n",
    "import pandas as pd\n",
    "import matplotlib.pyplot as plt\n",
    "import seaborn as sb\n",
    "\n",
    "%matplotlib inline\n"
   ]
  },
  {
   "cell_type": "code",
   "execution_count": 95,
   "metadata": {},
   "outputs": [],
   "source": [
    "#load dataset \n",
    "df =pd.read_csv('bikeshare.csv')"
   ]
  },
  {
   "cell_type": "code",
   "execution_count": 96,
   "metadata": {},
   "outputs": [
    {
     "data": {
      "text/plain": [
       "(183412, 16)"
      ]
     },
     "execution_count": 96,
     "metadata": {},
     "output_type": "execute_result"
    }
   ],
   "source": [
    "df.shape"
   ]
  },
  {
   "cell_type": "code",
   "execution_count": 97,
   "metadata": {},
   "outputs": [
    {
     "name": "stdout",
     "output_type": "stream",
     "text": [
      "<class 'pandas.core.frame.DataFrame'>\n",
      "RangeIndex: 183412 entries, 0 to 183411\n",
      "Data columns (total 16 columns):\n",
      "duration_sec               183412 non-null int64\n",
      "start_time                 183412 non-null object\n",
      "end_time                   183412 non-null object\n",
      "start_station_id           183215 non-null float64\n",
      "start_station_name         183215 non-null object\n",
      "start_station_latitude     183412 non-null float64\n",
      "start_station_longitude    183412 non-null float64\n",
      "end_station_id             183215 non-null float64\n",
      "end_station_name           183215 non-null object\n",
      "end_station_latitude       183412 non-null float64\n",
      "end_station_longitude      183412 non-null float64\n",
      "bike_id                    183412 non-null int64\n",
      "user_type                  183412 non-null object\n",
      "member_birth_year          175147 non-null float64\n",
      "member_gender              175147 non-null object\n",
      "bike_share_for_all_trip    183412 non-null object\n",
      "dtypes: float64(7), int64(2), object(7)\n",
      "memory usage: 22.4+ MB\n"
     ]
    }
   ],
   "source": [
    "#show dataset structure & describe its properties\n",
    "df.info()"
   ]
  },
  {
   "cell_type": "code",
   "execution_count": 98,
   "metadata": {},
   "outputs": [
    {
     "data": {
      "text/html": [
       "<div>\n",
       "<style scoped>\n",
       "    .dataframe tbody tr th:only-of-type {\n",
       "        vertical-align: middle;\n",
       "    }\n",
       "\n",
       "    .dataframe tbody tr th {\n",
       "        vertical-align: top;\n",
       "    }\n",
       "\n",
       "    .dataframe thead th {\n",
       "        text-align: right;\n",
       "    }\n",
       "</style>\n",
       "<table border=\"1\" class=\"dataframe\">\n",
       "  <thead>\n",
       "    <tr style=\"text-align: right;\">\n",
       "      <th></th>\n",
       "      <th>duration_sec</th>\n",
       "      <th>start_time</th>\n",
       "      <th>end_time</th>\n",
       "      <th>start_station_id</th>\n",
       "      <th>start_station_name</th>\n",
       "      <th>start_station_latitude</th>\n",
       "      <th>start_station_longitude</th>\n",
       "      <th>end_station_id</th>\n",
       "      <th>end_station_name</th>\n",
       "      <th>end_station_latitude</th>\n",
       "      <th>end_station_longitude</th>\n",
       "      <th>bike_id</th>\n",
       "      <th>user_type</th>\n",
       "      <th>member_birth_year</th>\n",
       "      <th>member_gender</th>\n",
       "      <th>bike_share_for_all_trip</th>\n",
       "    </tr>\n",
       "  </thead>\n",
       "  <tbody>\n",
       "    <tr>\n",
       "      <th>0</th>\n",
       "      <td>52185</td>\n",
       "      <td>2019-02-28 17:32:10.1450</td>\n",
       "      <td>2019-03-01 08:01:55.9750</td>\n",
       "      <td>21.0</td>\n",
       "      <td>Montgomery St BART Station (Market St at 2nd St)</td>\n",
       "      <td>37.789625</td>\n",
       "      <td>-122.400811</td>\n",
       "      <td>13.0</td>\n",
       "      <td>Commercial St at Montgomery St</td>\n",
       "      <td>37.794231</td>\n",
       "      <td>-122.402923</td>\n",
       "      <td>4902</td>\n",
       "      <td>Customer</td>\n",
       "      <td>1984.0</td>\n",
       "      <td>Male</td>\n",
       "      <td>No</td>\n",
       "    </tr>\n",
       "    <tr>\n",
       "      <th>1</th>\n",
       "      <td>42521</td>\n",
       "      <td>2019-02-28 18:53:21.7890</td>\n",
       "      <td>2019-03-01 06:42:03.0560</td>\n",
       "      <td>23.0</td>\n",
       "      <td>The Embarcadero at Steuart St</td>\n",
       "      <td>37.791464</td>\n",
       "      <td>-122.391034</td>\n",
       "      <td>81.0</td>\n",
       "      <td>Berry St at 4th St</td>\n",
       "      <td>37.775880</td>\n",
       "      <td>-122.393170</td>\n",
       "      <td>2535</td>\n",
       "      <td>Customer</td>\n",
       "      <td>NaN</td>\n",
       "      <td>NaN</td>\n",
       "      <td>No</td>\n",
       "    </tr>\n",
       "    <tr>\n",
       "      <th>2</th>\n",
       "      <td>61854</td>\n",
       "      <td>2019-02-28 12:13:13.2180</td>\n",
       "      <td>2019-03-01 05:24:08.1460</td>\n",
       "      <td>86.0</td>\n",
       "      <td>Market St at Dolores St</td>\n",
       "      <td>37.769305</td>\n",
       "      <td>-122.426826</td>\n",
       "      <td>3.0</td>\n",
       "      <td>Powell St BART Station (Market St at 4th St)</td>\n",
       "      <td>37.786375</td>\n",
       "      <td>-122.404904</td>\n",
       "      <td>5905</td>\n",
       "      <td>Customer</td>\n",
       "      <td>1972.0</td>\n",
       "      <td>Male</td>\n",
       "      <td>No</td>\n",
       "    </tr>\n",
       "    <tr>\n",
       "      <th>3</th>\n",
       "      <td>36490</td>\n",
       "      <td>2019-02-28 17:54:26.0100</td>\n",
       "      <td>2019-03-01 04:02:36.8420</td>\n",
       "      <td>375.0</td>\n",
       "      <td>Grove St at Masonic Ave</td>\n",
       "      <td>37.774836</td>\n",
       "      <td>-122.446546</td>\n",
       "      <td>70.0</td>\n",
       "      <td>Central Ave at Fell St</td>\n",
       "      <td>37.773311</td>\n",
       "      <td>-122.444293</td>\n",
       "      <td>6638</td>\n",
       "      <td>Subscriber</td>\n",
       "      <td>1989.0</td>\n",
       "      <td>Other</td>\n",
       "      <td>No</td>\n",
       "    </tr>\n",
       "    <tr>\n",
       "      <th>4</th>\n",
       "      <td>1585</td>\n",
       "      <td>2019-02-28 23:54:18.5490</td>\n",
       "      <td>2019-03-01 00:20:44.0740</td>\n",
       "      <td>7.0</td>\n",
       "      <td>Frank H Ogawa Plaza</td>\n",
       "      <td>37.804562</td>\n",
       "      <td>-122.271738</td>\n",
       "      <td>222.0</td>\n",
       "      <td>10th Ave at E 15th St</td>\n",
       "      <td>37.792714</td>\n",
       "      <td>-122.248780</td>\n",
       "      <td>4898</td>\n",
       "      <td>Subscriber</td>\n",
       "      <td>1974.0</td>\n",
       "      <td>Male</td>\n",
       "      <td>Yes</td>\n",
       "    </tr>\n",
       "  </tbody>\n",
       "</table>\n",
       "</div>"
      ],
      "text/plain": [
       "   duration_sec                start_time                  end_time  \\\n",
       "0         52185  2019-02-28 17:32:10.1450  2019-03-01 08:01:55.9750   \n",
       "1         42521  2019-02-28 18:53:21.7890  2019-03-01 06:42:03.0560   \n",
       "2         61854  2019-02-28 12:13:13.2180  2019-03-01 05:24:08.1460   \n",
       "3         36490  2019-02-28 17:54:26.0100  2019-03-01 04:02:36.8420   \n",
       "4          1585  2019-02-28 23:54:18.5490  2019-03-01 00:20:44.0740   \n",
       "\n",
       "   start_station_id                                start_station_name  \\\n",
       "0              21.0  Montgomery St BART Station (Market St at 2nd St)   \n",
       "1              23.0                     The Embarcadero at Steuart St   \n",
       "2              86.0                           Market St at Dolores St   \n",
       "3             375.0                           Grove St at Masonic Ave   \n",
       "4               7.0                               Frank H Ogawa Plaza   \n",
       "\n",
       "   start_station_latitude  start_station_longitude  end_station_id  \\\n",
       "0               37.789625              -122.400811            13.0   \n",
       "1               37.791464              -122.391034            81.0   \n",
       "2               37.769305              -122.426826             3.0   \n",
       "3               37.774836              -122.446546            70.0   \n",
       "4               37.804562              -122.271738           222.0   \n",
       "\n",
       "                               end_station_name  end_station_latitude  \\\n",
       "0                Commercial St at Montgomery St             37.794231   \n",
       "1                            Berry St at 4th St             37.775880   \n",
       "2  Powell St BART Station (Market St at 4th St)             37.786375   \n",
       "3                        Central Ave at Fell St             37.773311   \n",
       "4                         10th Ave at E 15th St             37.792714   \n",
       "\n",
       "   end_station_longitude  bike_id   user_type  member_birth_year  \\\n",
       "0            -122.402923     4902    Customer             1984.0   \n",
       "1            -122.393170     2535    Customer                NaN   \n",
       "2            -122.404904     5905    Customer             1972.0   \n",
       "3            -122.444293     6638  Subscriber             1989.0   \n",
       "4            -122.248780     4898  Subscriber             1974.0   \n",
       "\n",
       "  member_gender bike_share_for_all_trip  \n",
       "0          Male                      No  \n",
       "1           NaN                      No  \n",
       "2          Male                      No  \n",
       "3         Other                      No  \n",
       "4          Male                     Yes  "
      ]
     },
     "execution_count": 98,
     "metadata": {},
     "output_type": "execute_result"
    }
   ],
   "source": [
    "df.head()"
   ]
  },
  {
   "cell_type": "markdown",
   "metadata": {},
   "source": [
    "### Dataset structure \n",
    "\n",
    "> The dataset contains 183412 records with 16 features. 9 variables are numeric, 2 variables are timestamp and the remaining 7 variables are categorical\n",
    ">\n",
    ">   1-  Numeric variables:\n",
    ">     \n",
    ">duration_sec,    start_station_id,    start_station_latitude,    start_station_longitude,  end_station_id,    end_station_latitude,    end_station_longitude,    bike_id,    member_birth_year\n",
    ">\n",
    ">   2-  Timestamp variables :\n",
    ">     \n",
    ">start_time,    end_time \n",
    ">\n",
    ">   3-  String:\n",
    ">     \n",
    ">start_station_name,    end_station_name\n",
    ">\n",
    ">   4-  Categorical variables:\n",
    ">     \n",
    ">user_type,    member_gender,    bike_share_for_all_trip\n",
    ">\n",
    "\n",
    "### Main feature of interest \n",
    "\n",
    "trip duration/hours , User Type, Member Year of Birth , Member Gender\n",
    " \n",
    "\n",
    "### Other features in the dataset that will help support my investigation into your feature of interest\n",
    "\n",
    "Start Time , End Time  and other features to be transformed from the current features \n",
    "\n"
   ]
  },
  {
   "cell_type": "code",
   "execution_count": 99,
   "metadata": {},
   "outputs": [
    {
     "name": "stdout",
     "output_type": "stream",
     "text": [
      "<class 'pandas.core.frame.DataFrame'>\n",
      "RangeIndex: 183412 entries, 0 to 183411\n",
      "Data columns (total 9 columns):\n",
      "duration_sec               183412 non-null int64\n",
      "start_time                 183412 non-null object\n",
      "end_time                   183412 non-null object\n",
      "start_station_name         183215 non-null object\n",
      "end_station_name           183215 non-null object\n",
      "user_type                  183412 non-null object\n",
      "member_birth_year          175147 non-null float64\n",
      "member_gender              175147 non-null object\n",
      "bike_share_for_all_trip    183412 non-null object\n",
      "dtypes: float64(1), int64(1), object(7)\n",
      "memory usage: 12.6+ MB\n"
     ]
    }
   ],
   "source": [
    "#Removing unneeded columns from the dataset for better analysis\n",
    "df.drop(['start_station_id','end_station_id','start_station_latitude','bike_id','start_station_longitude', 'end_station_latitude', 'end_station_longitude'], axis=1, inplace=True)\n",
    "df.info()"
   ]
  },
  {
   "cell_type": "code",
   "execution_count": 100,
   "metadata": {},
   "outputs": [
    {
     "name": "stdout",
     "output_type": "stream",
     "text": [
      "<class 'pandas.core.frame.DataFrame'>\n",
      "RangeIndex: 183412 entries, 0 to 183411\n",
      "Data columns (total 9 columns):\n",
      "duration_sec               183412 non-null int64\n",
      "start_time                 183412 non-null datetime64[ns]\n",
      "end_time                   183412 non-null datetime64[ns]\n",
      "start_station_name         183215 non-null object\n",
      "end_station_name           183215 non-null object\n",
      "user_type                  183412 non-null category\n",
      "member_birth_year          175147 non-null float64\n",
      "member_gender              175147 non-null category\n",
      "bike_share_for_all_trip    183412 non-null object\n",
      "dtypes: category(2), datetime64[ns](2), float64(1), int64(1), object(3)\n",
      "memory usage: 10.1+ MB\n"
     ]
    }
   ],
   "source": [
    "#change the datatype or these 4 variables to be more realstic and help us manipulating the data well \n",
    "df['start_time'] = pd.to_datetime(df['start_time'])\n",
    "df['end_time'] = pd.to_datetime(df['end_time'])\n",
    "df.user_type = df.user_type.astype('category')\n",
    "df.member_gender = df.member_gender.astype('category')\n",
    "df.info()"
   ]
  },
  {
   "cell_type": "code",
   "execution_count": 101,
   "metadata": {},
   "outputs": [
    {
     "name": "stdout",
     "output_type": "stream",
     "text": [
      "<class 'pandas.core.frame.DataFrame'>\n",
      "RangeIndex: 183412 entries, 0 to 183411\n",
      "Data columns (total 9 columns):\n",
      "duration_min               183412 non-null float64\n",
      "start_time                 183412 non-null datetime64[ns]\n",
      "end_time                   183412 non-null datetime64[ns]\n",
      "start_station_name         183215 non-null object\n",
      "end_station_name           183215 non-null object\n",
      "user_type                  183412 non-null category\n",
      "member_birth_year          175147 non-null float64\n",
      "member_gender              175147 non-null category\n",
      "bike_share_for_all_trip    183412 non-null object\n",
      "dtypes: category(2), datetime64[ns](2), float64(2), object(3)\n",
      "memory usage: 10.1+ MB\n"
     ]
    }
   ],
   "source": [
    "#change duration_sec to duration_min (duration in minutes) for mor clarification and understanding\n",
    "df ['duration_sec'] = df['duration_sec']  / 60\n",
    "df.rename(columns={\"duration_sec\": \"duration_min\"},inplace = True) \n",
    "df.info()\n"
   ]
  },
  {
   "cell_type": "code",
   "execution_count": 102,
   "metadata": {},
   "outputs": [
    {
     "data": {
      "text/plain": [
       "0"
      ]
     },
     "execution_count": 102,
     "metadata": {},
     "output_type": "execute_result"
    }
   ],
   "source": [
    "#check duplicate records\n",
    "df.duplicated().sum()"
   ]
  },
  {
   "cell_type": "code",
   "execution_count": 103,
   "metadata": {
    "scrolled": true
   },
   "outputs": [
    {
     "data": {
      "text/plain": [
       "duration_min                  0\n",
       "start_time                    0\n",
       "end_time                      0\n",
       "start_station_name          197\n",
       "end_station_name            197\n",
       "user_type                     0\n",
       "member_birth_year          8265\n",
       "member_gender              8265\n",
       "bike_share_for_all_trip       0\n",
       "dtype: int64"
      ]
     },
     "execution_count": 103,
     "metadata": {},
     "output_type": "execute_result"
    }
   ],
   "source": [
    "#check null values \n",
    "df.isnull().sum()"
   ]
  },
  {
   "cell_type": "markdown",
   "metadata": {},
   "source": [
    "        - There are 197 null values with missing start and end station names. 197 is a few number according to the overall dataset records, so we will drop them. \n",
    "\n",
    "        - Varaibles member_birth_year & member_gender have also null values and can not be filled. So, it's ok to keep them because this will be handled by plotting a third category called nulls or others. "
   ]
  },
  {
   "cell_type": "code",
   "execution_count": 104,
   "metadata": {},
   "outputs": [
    {
     "data": {
      "text/plain": [
       "array([ True,  True,  True,  True,  True,  True,  True,  True,  True,\n",
       "        True,  True,  True,  True,  True,  True,  True,  True,  True,\n",
       "        True,  True,  True,  True,  True,  True,  True,  True,  True,\n",
       "        True,  True,  True,  True,  True,  True,  True,  True,  True,\n",
       "        True,  True,  True,  True,  True,  True,  True,  True,  True,\n",
       "        True,  True,  True,  True,  True,  True,  True,  True,  True,\n",
       "        True,  True,  True,  True,  True,  True,  True,  True,  True,\n",
       "        True,  True,  True,  True,  True,  True,  True,  True,  True,\n",
       "        True,  True,  True,  True,  True,  True,  True,  True,  True,\n",
       "        True,  True,  True,  True,  True,  True,  True,  True,  True,\n",
       "        True,  True,  True,  True,  True,  True,  True,  True,  True,\n",
       "        True,  True,  True,  True,  True,  True,  True,  True,  True,\n",
       "        True,  True,  True,  True,  True,  True,  True,  True,  True,\n",
       "        True,  True,  True,  True,  True,  True,  True,  True,  True,\n",
       "        True,  True,  True,  True,  True,  True,  True,  True,  True,\n",
       "        True,  True,  True,  True,  True,  True,  True,  True,  True,\n",
       "        True,  True,  True,  True,  True,  True,  True,  True,  True,\n",
       "        True,  True,  True,  True,  True,  True,  True,  True,  True,\n",
       "        True,  True,  True,  True,  True,  True,  True,  True,  True,\n",
       "        True,  True,  True,  True,  True,  True,  True,  True,  True,\n",
       "        True,  True,  True,  True,  True,  True,  True,  True,  True,\n",
       "        True,  True,  True,  True,  True,  True,  True,  True], dtype=bool)"
      ]
     },
     "execution_count": 104,
     "metadata": {},
     "output_type": "execute_result"
    }
   ],
   "source": [
    "#check the null start and end station names and match them to check for equality\n",
    "null_index = df[df['start_station_name'].isnull()].index\n",
    "null_index2 = df[df['end_station_name'].isnull()].index \n",
    "null_index == null_index2"
   ]
  },
  {
   "cell_type": "code",
   "execution_count": 105,
   "metadata": {},
   "outputs": [
    {
     "data": {
      "text/plain": [
       "duration_min                  0\n",
       "start_time                    0\n",
       "end_time                      0\n",
       "start_station_name            0\n",
       "end_station_name              0\n",
       "user_type                     0\n",
       "member_birth_year          8263\n",
       "member_gender              8263\n",
       "bike_share_for_all_trip       0\n",
       "dtype: int64"
      ]
     },
     "execution_count": 105,
     "metadata": {},
     "output_type": "execute_result"
    }
   ],
   "source": [
    "#since both null_index and null_index2 are the same records so we drop only one index from them \n",
    "df.drop(index = null_index , axis=0,inplace=True)\n",
    "df.isnull().sum()"
   ]
  },
  {
   "cell_type": "code",
   "execution_count": 106,
   "metadata": {},
   "outputs": [
    {
     "data": {
      "text/html": [
       "<div>\n",
       "<style scoped>\n",
       "    .dataframe tbody tr th:only-of-type {\n",
       "        vertical-align: middle;\n",
       "    }\n",
       "\n",
       "    .dataframe tbody tr th {\n",
       "        vertical-align: top;\n",
       "    }\n",
       "\n",
       "    .dataframe thead th {\n",
       "        text-align: right;\n",
       "    }\n",
       "</style>\n",
       "<table border=\"1\" class=\"dataframe\">\n",
       "  <thead>\n",
       "    <tr style=\"text-align: right;\">\n",
       "      <th></th>\n",
       "      <th>duration_min</th>\n",
       "      <th>member_birth_year</th>\n",
       "    </tr>\n",
       "  </thead>\n",
       "  <tbody>\n",
       "    <tr>\n",
       "      <th>count</th>\n",
       "      <td>183215.000000</td>\n",
       "      <td>174952.000000</td>\n",
       "    </tr>\n",
       "    <tr>\n",
       "      <th>mean</th>\n",
       "      <td>12.098367</td>\n",
       "      <td>1984.803135</td>\n",
       "    </tr>\n",
       "    <tr>\n",
       "      <th>std</th>\n",
       "      <td>29.917978</td>\n",
       "      <td>10.118731</td>\n",
       "    </tr>\n",
       "    <tr>\n",
       "      <th>min</th>\n",
       "      <td>1.016667</td>\n",
       "      <td>1878.000000</td>\n",
       "    </tr>\n",
       "    <tr>\n",
       "      <th>25%</th>\n",
       "      <td>5.416667</td>\n",
       "      <td>1980.000000</td>\n",
       "    </tr>\n",
       "    <tr>\n",
       "      <th>50%</th>\n",
       "      <td>8.566667</td>\n",
       "      <td>1987.000000</td>\n",
       "    </tr>\n",
       "    <tr>\n",
       "      <th>75%</th>\n",
       "      <td>13.266667</td>\n",
       "      <td>1992.000000</td>\n",
       "    </tr>\n",
       "    <tr>\n",
       "      <th>max</th>\n",
       "      <td>1424.066667</td>\n",
       "      <td>2001.000000</td>\n",
       "    </tr>\n",
       "  </tbody>\n",
       "</table>\n",
       "</div>"
      ],
      "text/plain": [
       "        duration_min  member_birth_year\n",
       "count  183215.000000      174952.000000\n",
       "mean       12.098367        1984.803135\n",
       "std        29.917978          10.118731\n",
       "min         1.016667        1878.000000\n",
       "25%         5.416667        1980.000000\n",
       "50%         8.566667        1987.000000\n",
       "75%        13.266667        1992.000000\n",
       "max      1424.066667        2001.000000"
      ]
     },
     "execution_count": 106,
     "metadata": {},
     "output_type": "execute_result"
    }
   ],
   "source": [
    "df.describe()"
   ]
  },
  {
   "cell_type": "markdown",
   "metadata": {},
   "source": [
    "    - member_birth_year & duration_min variables seem that they have some outliers and needs more investigations to be done below"
   ]
  },
  {
   "cell_type": "code",
   "execution_count": 107,
   "metadata": {},
   "outputs": [],
   "source": [
    "#drop the age outlier age = 140 \n",
    "min_age = df.loc[df['member_birth_year']  == 1878].index\n",
    "df.drop(min_age , axis=0, inplace=True)"
   ]
  },
  {
   "cell_type": "code",
   "execution_count": 108,
   "metadata": {},
   "outputs": [
    {
     "data": {
      "text/html": [
       "<div>\n",
       "<style scoped>\n",
       "    .dataframe tbody tr th:only-of-type {\n",
       "        vertical-align: middle;\n",
       "    }\n",
       "\n",
       "    .dataframe tbody tr th {\n",
       "        vertical-align: top;\n",
       "    }\n",
       "\n",
       "    .dataframe thead th {\n",
       "        text-align: right;\n",
       "    }\n",
       "</style>\n",
       "<table border=\"1\" class=\"dataframe\">\n",
       "  <thead>\n",
       "    <tr style=\"text-align: right;\">\n",
       "      <th></th>\n",
       "      <th>duration_min</th>\n",
       "      <th>start_time</th>\n",
       "      <th>end_time</th>\n",
       "      <th>start_station_name</th>\n",
       "      <th>end_station_name</th>\n",
       "      <th>user_type</th>\n",
       "      <th>member_birth_year</th>\n",
       "      <th>member_gender</th>\n",
       "      <th>bike_share_for_all_trip</th>\n",
       "    </tr>\n",
       "  </thead>\n",
       "  <tbody>\n",
       "  </tbody>\n",
       "</table>\n",
       "</div>"
      ],
      "text/plain": [
       "Empty DataFrame\n",
       "Columns: [duration_min, start_time, end_time, start_station_name, end_station_name, user_type, member_birth_year, member_gender, bike_share_for_all_trip]\n",
       "Index: []"
      ]
     },
     "execution_count": 108,
     "metadata": {},
     "output_type": "execute_result"
    }
   ],
   "source": [
    "df.loc[df['member_birth_year']  == 1878]"
   ]
  },
  {
   "cell_type": "code",
   "execution_count": 109,
   "metadata": {},
   "outputs": [
    {
     "data": {
      "text/plain": [
       "array([ 1984.,    nan,  1972.,  1989.,  1974.,  1959.,  1983.,  1988.,\n",
       "        1992.,  1996.,  1993.,  1990.,  1981.,  1975.,  1978.,  1991.,\n",
       "        1997.,  1986.,  2000.,  1982.,  1995.,  1980.,  1973.,  1985.,\n",
       "        1971.,  1979.,  1967.,  1998.,  1994.,  1977.,  1999.,  1987.,\n",
       "        1969.,  1963.,  1976.,  1964.,  1965.,  1961.,  1968.,  1966.,\n",
       "        1962.,  1954.,  1958.,  1960.,  1970.,  1956.,  1957.,  1945.,\n",
       "        1900.,  1952.,  1948.,  1951.,  1941.,  1950.,  1949.,  1953.,\n",
       "        1955.,  1946.,  1947.,  1931.,  1943.,  1942.,  1920.,  1933.,\n",
       "        2001.,  1901.,  1944.,  1928.,  1934.,  1939.,  1930.,  1902.,\n",
       "        1910.,  1938.,  1927.])"
      ]
     },
     "execution_count": 109,
     "metadata": {},
     "output_type": "execute_result"
    }
   ],
   "source": [
    "# member_birth_year investigation \n",
    "df['member_birth_year'].unique()"
   ]
  },
  {
   "cell_type": "code",
   "execution_count": 110,
   "metadata": {},
   "outputs": [
    {
     "data": {
      "text/plain": [
       "array([  19.,   20.,   21.,   22.,   23.,   24.,   25.,   26.,   27.,\n",
       "         28.,   29.,   30.,   31.,   32.,   33.,   34.,   35.,   36.,\n",
       "         37.,   38.,   39.,   40.,   41.,   42.,   43.,   44.,   45.,\n",
       "         46.,   47.,   48.,   49.,   50.,   51.,   52.,   53.,   54.,\n",
       "         55.,   56.,   57.,   58.,   59.,   60.,   61.,   62.,   63.,\n",
       "         64.,   65.,   66.,   67.,   68.,   69.,   70.,   71.,   72.,\n",
       "         73.,   74.,   75.,   76.,   77.,   78.,   79.,   81.,   82.,\n",
       "         86.,   87.,   89.,   90.,   92.,   93.,  100.,  110.,  118.,\n",
       "        119.,  120.,   nan])"
      ]
     },
     "execution_count": 110,
     "metadata": {},
     "output_type": "execute_result"
    }
   ],
   "source": [
    "ages = 2020 - df['member_birth_year']\n",
    "(ages.sort_values(ascending=True)).unique()"
   ]
  },
  {
   "cell_type": "code",
   "execution_count": 111,
   "metadata": {},
   "outputs": [
    {
     "data": {
      "text/plain": [
       "8263"
      ]
     },
     "execution_count": 111,
     "metadata": {},
     "output_type": "execute_result"
    }
   ],
   "source": [
    "#explore more about ages categories in order to create ages groups that will help more in visualization\n",
    "ages.isnull().sum()\n"
   ]
  },
  {
   "cell_type": "code",
   "execution_count": 112,
   "metadata": {},
   "outputs": [
    {
     "name": "stdout",
     "output_type": "stream",
     "text": [
      " ages   < 18 :   0\n",
      " ages 18 - 35:   100444\n",
      " ages 35 - 50:   56651\n",
      " ages 50 - 65:   16043\n",
      " ages 65 - 80:   1611\n",
      " ages 80 - 100:  128\n",
      " ages   > 100 :   71\n"
     ]
    }
   ],
   "source": [
    "#checking the count to decide whether there are other incorrect data \n",
    "print (\" ages   < 18 :  \"  ,(  ages<18                ).sum() )\n",
    "print (\" ages 18 - 35:  \"  ,( (ages>=18) & (ages< 35) ).sum())\n",
    "print (\" ages 35 - 50:  \"  ,( (ages>=35) & (ages<50)  ).sum())\n",
    "print (\" ages 50 - 65:  \"  ,( (ages>=50) & (ages<65)  ).sum())\n",
    "print (\" ages 65 - 80:  \"  ,( (ages>=65) & (ages<80)  ).sum())\n",
    "print (\" ages 80 - 100: \"  ,( (ages>=80) & (ages<100) ).sum())\n",
    "print (\" ages   > 100 :  \"  ,(ages>100).sum() )"
   ]
  },
  {
   "cell_type": "code",
   "execution_count": 113,
   "metadata": {},
   "outputs": [],
   "source": [
    "#df.loc[((ages> 100) )]"
   ]
  },
  {
   "cell_type": "markdown",
   "metadata": {},
   "source": [
    "      - Concerning the people who are above 100 years, these 71 records I can't make sure if these data are considered \n",
    "      as outliers because sometimes people could live until 120 years.I decided to keep them and classify the age into \n",
    "      groups for better and clear visualization. "
   ]
  },
  {
   "cell_type": "code",
   "execution_count": 114,
   "metadata": {},
   "outputs": [],
   "source": [
    "#create column age with numeric age value in years \n",
    "df['age'] = 2020 - df['member_birth_year']\n",
    "\n",
    "#create age groups for better classification \n",
    "bins= [18, 35 ,50 ,65 ,80,100,140]\n",
    "labels = ['[18-35]', '[35-50]','[50-65]','[65-80]','[80-100]','[above 100]' ] \n",
    "df['age_group'] = pd.cut(df['age'], bins=bins, labels=labels, right=False)\n"
   ]
  },
  {
   "cell_type": "code",
   "execution_count": 115,
   "metadata": {},
   "outputs": [
    {
     "name": "stdout",
     "output_type": "stream",
     "text": [
      "<class 'pandas.core.frame.DataFrame'>\n",
      "Int64Index: 183214 entries, 0 to 183411\n",
      "Data columns (total 10 columns):\n",
      "duration_min               183214 non-null float64\n",
      "start_time                 183214 non-null datetime64[ns]\n",
      "end_time                   183214 non-null datetime64[ns]\n",
      "start_station_name         183214 non-null object\n",
      "end_station_name           183214 non-null object\n",
      "user_type                  183214 non-null category\n",
      "member_gender              174951 non-null category\n",
      "bike_share_for_all_trip    183214 non-null object\n",
      "age                        174951 non-null float64\n",
      "age_group                  174951 non-null category\n",
      "dtypes: category(3), datetime64[ns](2), float64(2), object(3)\n",
      "memory usage: 11.7+ MB\n"
     ]
    }
   ],
   "source": [
    "df.drop(['member_birth_year'], axis=1, inplace=True)\n",
    "df.info()"
   ]
  },
  {
   "cell_type": "code",
   "execution_count": 116,
   "metadata": {},
   "outputs": [],
   "source": [
    "df['start_hour'] =df['start_time'].dt.hour \n",
    "df['end_hour'] = df['end_time'].dt.hour "
   ]
  },
  {
   "cell_type": "code",
   "execution_count": 79,
   "metadata": {},
   "outputs": [
    {
     "data": {
      "text/html": [
       "<div>\n",
       "<style scoped>\n",
       "    .dataframe tbody tr th:only-of-type {\n",
       "        vertical-align: middle;\n",
       "    }\n",
       "\n",
       "    .dataframe tbody tr th {\n",
       "        vertical-align: top;\n",
       "    }\n",
       "\n",
       "    .dataframe thead th {\n",
       "        text-align: right;\n",
       "    }\n",
       "</style>\n",
       "<table border=\"1\" class=\"dataframe\">\n",
       "  <thead>\n",
       "    <tr style=\"text-align: right;\">\n",
       "      <th></th>\n",
       "      <th>duration_min</th>\n",
       "      <th>start_time</th>\n",
       "      <th>end_time</th>\n",
       "      <th>start_station_name</th>\n",
       "      <th>end_station_name</th>\n",
       "      <th>user_type</th>\n",
       "      <th>member_gender</th>\n",
       "      <th>bike_share_for_all_trip</th>\n",
       "      <th>age</th>\n",
       "      <th>age_group</th>\n",
       "      <th>start_hour</th>\n",
       "      <th>end_hour</th>\n",
       "    </tr>\n",
       "  </thead>\n",
       "  <tbody>\n",
       "    <tr>\n",
       "      <th>0</th>\n",
       "      <td>869.750000</td>\n",
       "      <td>2019-02-28 17:32:10.145</td>\n",
       "      <td>2019-03-01 08:01:55.975</td>\n",
       "      <td>Montgomery St BART Station (Market St at 2nd St)</td>\n",
       "      <td>Commercial St at Montgomery St</td>\n",
       "      <td>Customer</td>\n",
       "      <td>Male</td>\n",
       "      <td>No</td>\n",
       "      <td>36.0</td>\n",
       "      <td>[35-50]</td>\n",
       "      <td>17</td>\n",
       "      <td>8</td>\n",
       "    </tr>\n",
       "    <tr>\n",
       "      <th>1</th>\n",
       "      <td>708.683333</td>\n",
       "      <td>2019-02-28 18:53:21.789</td>\n",
       "      <td>2019-03-01 06:42:03.056</td>\n",
       "      <td>The Embarcadero at Steuart St</td>\n",
       "      <td>Berry St at 4th St</td>\n",
       "      <td>Customer</td>\n",
       "      <td>NaN</td>\n",
       "      <td>No</td>\n",
       "      <td>NaN</td>\n",
       "      <td>NaN</td>\n",
       "      <td>18</td>\n",
       "      <td>6</td>\n",
       "    </tr>\n",
       "    <tr>\n",
       "      <th>2</th>\n",
       "      <td>1030.900000</td>\n",
       "      <td>2019-02-28 12:13:13.218</td>\n",
       "      <td>2019-03-01 05:24:08.146</td>\n",
       "      <td>Market St at Dolores St</td>\n",
       "      <td>Powell St BART Station (Market St at 4th St)</td>\n",
       "      <td>Customer</td>\n",
       "      <td>Male</td>\n",
       "      <td>No</td>\n",
       "      <td>48.0</td>\n",
       "      <td>[35-50]</td>\n",
       "      <td>12</td>\n",
       "      <td>5</td>\n",
       "    </tr>\n",
       "    <tr>\n",
       "      <th>3</th>\n",
       "      <td>608.166667</td>\n",
       "      <td>2019-02-28 17:54:26.010</td>\n",
       "      <td>2019-03-01 04:02:36.842</td>\n",
       "      <td>Grove St at Masonic Ave</td>\n",
       "      <td>Central Ave at Fell St</td>\n",
       "      <td>Subscriber</td>\n",
       "      <td>Other</td>\n",
       "      <td>No</td>\n",
       "      <td>31.0</td>\n",
       "      <td>[18-35]</td>\n",
       "      <td>17</td>\n",
       "      <td>4</td>\n",
       "    </tr>\n",
       "    <tr>\n",
       "      <th>4</th>\n",
       "      <td>26.416667</td>\n",
       "      <td>2019-02-28 23:54:18.549</td>\n",
       "      <td>2019-03-01 00:20:44.074</td>\n",
       "      <td>Frank H Ogawa Plaza</td>\n",
       "      <td>10th Ave at E 15th St</td>\n",
       "      <td>Subscriber</td>\n",
       "      <td>Male</td>\n",
       "      <td>Yes</td>\n",
       "      <td>46.0</td>\n",
       "      <td>[35-50]</td>\n",
       "      <td>23</td>\n",
       "      <td>0</td>\n",
       "    </tr>\n",
       "  </tbody>\n",
       "</table>\n",
       "</div>"
      ],
      "text/plain": [
       "   duration_min              start_time                end_time  \\\n",
       "0    869.750000 2019-02-28 17:32:10.145 2019-03-01 08:01:55.975   \n",
       "1    708.683333 2019-02-28 18:53:21.789 2019-03-01 06:42:03.056   \n",
       "2   1030.900000 2019-02-28 12:13:13.218 2019-03-01 05:24:08.146   \n",
       "3    608.166667 2019-02-28 17:54:26.010 2019-03-01 04:02:36.842   \n",
       "4     26.416667 2019-02-28 23:54:18.549 2019-03-01 00:20:44.074   \n",
       "\n",
       "                                 start_station_name  \\\n",
       "0  Montgomery St BART Station (Market St at 2nd St)   \n",
       "1                     The Embarcadero at Steuart St   \n",
       "2                           Market St at Dolores St   \n",
       "3                           Grove St at Masonic Ave   \n",
       "4                               Frank H Ogawa Plaza   \n",
       "\n",
       "                               end_station_name   user_type member_gender  \\\n",
       "0                Commercial St at Montgomery St    Customer          Male   \n",
       "1                            Berry St at 4th St    Customer           NaN   \n",
       "2  Powell St BART Station (Market St at 4th St)    Customer          Male   \n",
       "3                        Central Ave at Fell St  Subscriber         Other   \n",
       "4                         10th Ave at E 15th St  Subscriber          Male   \n",
       "\n",
       "  bike_share_for_all_trip   age age_group  start_hour  end_hour  \n",
       "0                      No  36.0   [35-50]          17         8  \n",
       "1                      No   NaN       NaN          18         6  \n",
       "2                      No  48.0   [35-50]          12         5  \n",
       "3                      No  31.0   [18-35]          17         4  \n",
       "4                     Yes  46.0   [35-50]          23         0  "
      ]
     },
     "execution_count": 79,
     "metadata": {},
     "output_type": "execute_result"
    }
   ],
   "source": [
    "#start_time    end_time                   \n",
    "df.head()"
   ]
  },
  {
   "cell_type": "code",
   "execution_count": 122,
   "metadata": {},
   "outputs": [],
   "source": [
    "df.to_csv('bike_mod.csv', index=False )"
   ]
  },
  {
   "cell_type": "code",
   "execution_count": 123,
   "metadata": {},
   "outputs": [],
   "source": []
  },
  {
   "cell_type": "markdown",
   "metadata": {},
   "source": [
    "## Univariate Exploration\n"
   ]
  },
  {
   "cell_type": "code",
   "execution_count": 124,
   "metadata": {},
   "outputs": [
    {
     "data": {
      "text/plain": [
       "Index(['duration_min', 'start_time', 'end_time', 'start_station_name',\n",
       "       'end_station_name', 'user_type', 'member_gender',\n",
       "       'bike_share_for_all_trip', 'age', 'age_group', 'start_hour',\n",
       "       'end_hour'],\n",
       "      dtype='object')"
      ]
     },
     "execution_count": 124,
     "metadata": {},
     "output_type": "execute_result"
    }
   ],
   "source": [
    "df.columns"
   ]
  },
  {
   "cell_type": "code",
   "execution_count": 126,
   "metadata": {},
   "outputs": [
    {
     "data": {
      "image/png": "[encoded data removed]",
      "text/plain": [
       "<matplotlib.figure.Figure at 0x7f16e20d1898>"
      ]
     },
     "metadata": {
      "needs_background": "light"
     },
     "output_type": "display_data"
    }
   ],
   "source": [
    "#create bins / then plot a histogramof trip duration in minutes \n",
    "plt.figure(figsize=[20, 10])\n",
    "\n",
    "binsize = 1\n",
    "bins = np.arange(0, df['duration_min'].max()+binsize, binsize)\n",
    "plt.hist(data = df, x = df['duration_min'] , bins = bins )\n",
    " \n",
    "plt.xlabel('duration in minutes')\n",
    "plt.xlim((0,150));\n",
    "plt.show()"
   ]
  },
  {
   "cell_type": "markdown",
   "metadata": {},
   "source": [
    "    - This histogram shows that more than 140000 bike trips were held with an average trip duration of 12 minutes \n"
   ]
  },
  {
   "cell_type": "code",
   "execution_count": 83,
   "metadata": {},
   "outputs": [
    {
     "data": {
      "text/plain": [
       "<matplotlib.axes._subplots.AxesSubplot at 0x7f16daef80f0>"
      ]
     },
     "execution_count": 83,
     "metadata": {},
     "output_type": "execute_result"
    },
    {
     "data": {
      "image/png": "[encoded data removed]",
      "text/plain": [
       "<matplotlib.figure.Figure at 0x7f16dc6d4a90>"
      ]
     },
     "metadata": {
      "needs_background": "light"
     },
     "output_type": "display_data"
    }
   ],
   "source": [
    "#get the count of member gender / index of count then plot a horizontal bar chart\n",
    "freq1 = df['member_gender'].value_counts()\n",
    "gen_order1 = freq1.index\n",
    "sb.countplot(data=df, x='member_gender',  order=gen_order1)\n",
    " "
   ]
  },
  {
   "cell_type": "markdown",
   "metadata": {},
   "source": [
    "    - It's very obvious from the figure above is that Males is thrice the females\n",
    "   \n",
    "    - Males are more often using this bikeshare service "
   ]
  },
  {
   "cell_type": "code",
   "execution_count": 89,
   "metadata": {},
   "outputs": [
    {
     "data": {
      "text/plain": [
       "(-1.1064844320103164,\n",
       " 1.1985566007074397,\n",
       " -1.1059747502950703,\n",
       " 1.1990662824226859)"
      ]
     },
     "execution_count": 89,
     "metadata": {},
     "output_type": "execute_result"
    },
    {
     "data": {
      "image/png": "[encoded data removed]",
      "text/plain": [
       "<matplotlib.figure.Figure at 0x7f16daea40b8>"
      ]
     },
     "metadata": {},
     "output_type": "display_data"
    }
   ],
   "source": [
    "#get the count of user types / index of count then plot a pie plot  \n",
    "colors = [  'yellowgreen','gold']\n",
    "sorted_counts = df['user_type'].value_counts()\n",
    "explode = (0 , 0.1) \n",
    "plt.pie(sorted_counts, labels = sorted_counts.index,explode =explode , startangle = 90, autopct='%1.1f%%', counterclock = False, colors = colors );\n",
    "plt.axis('square')"
   ]
  },
  {
   "cell_type": "markdown",
   "metadata": {},
   "source": [
    "    - This figure shows that  89% of  Ford GoBike users are  subscribers\n",
    "    \n",
    "    - Subsribers are approximately 8 times more than customers "
   ]
  },
  {
   "cell_type": "code",
   "execution_count": 88,
   "metadata": {},
   "outputs": [
    {
     "data": {
      "text/plain": [
       "(-1.1073105077186975,\n",
       " 1.2035919327256404,\n",
       " -1.1102522589599717,\n",
       " 1.2006501814843662)"
      ]
     },
     "execution_count": 88,
     "metadata": {},
     "output_type": "execute_result"
    },
    {
     "data": {
      "image/png": "[encoded data removed]",
      "text/plain": [
       "<matplotlib.figure.Figure at 0x7f16da904b70>"
      ]
     },
     "metadata": {},
     "output_type": "display_data"
    }
   ],
   "source": [
    "#get the count of bike_share_for_all_trip / index of count then plot a pie plot  \n",
    "colors_list = [ 'lightskyblue','gold']\n",
    "sorted_counts1 = df['bike_share_for_all_trip'].value_counts()\n",
    "explode = (0 , 0.1) \n",
    "plt.pie(sorted_counts1, labels = sorted_counts1.index, explode =explode , startangle = 90, autopct='%1.1f%%', counterclock = False,colors=colors_list);\n",
    "plt.axis('square')"
   ]
  },
  {
   "cell_type": "markdown",
   "metadata": {},
   "source": [
    "        - This figures shows that 9.5 % of the overall users are members who are enrolled in the Bike Share for All \n",
    "          (program for low-income residents)\n",
    "\n"
   ]
  },
  {
   "cell_type": "markdown",
   "metadata": {},
   "source": [
    "### Discuss the distribution(s) of your variable(s) of interest. Were there any unusual points? Did you need to perform any transformations?\n",
    "\n",
    "Yes, some outliers are detected and transformations are performed.\n",
    "\n",
    "### Of the features you investigated, were there any unusual distributions? Did you perform any operations on the data to tidy, adjust, or change the form of the data? If so, why did you do this?\n",
    "\n",
    "Yes, I had to do some cleaning ,data wrangling and some operations before working.\n",
    "        - converting variables types to the appropriate data types\n",
    "        - dropping unneeded columns \n",
    "        - dropping null records\n",
    "        - duration in seconds is changed to duration in minutes for better visualization  \n",
    "        - member birth year has outliers   \n",
    "        - Age groups are created for better classification and visualization\n",
    "        - extract hour from start time / end time\n"
   ]
  },
  {
   "cell_type": "markdown",
   "metadata": {},
   "source": [
    "## Bivariate Exploration\n",
    "\n"
   ]
  },
  {
   "cell_type": "code",
   "execution_count": 41,
   "metadata": {},
   "outputs": [
    {
     "data": {
      "image/png": "[encoded data removed]",
      "text/plain": [
       "<matplotlib.figure.Figure at 0x7f16dc4f7780>"
      ]
     },
     "metadata": {
      "needs_background": "light"
     },
     "output_type": "display_data"
    }
   ],
   "source": [
    "#get the count of user_type in each start_hour then plot a horizontal bar chart\n",
    "plt.figure(figsize=[20, 10])\n",
    "freq3 = df['start_hour'].value_counts()\n",
    "gen_order3 = freq3.index\n",
    "sb.countplot(data=df, x='start_hour', hue ='user_type' , order=gen_order3);\n",
    " "
   ]
  },
  {
   "cell_type": "markdown",
   "metadata": {},
   "source": [
    "     - This plot shows that the peak hour for all users ( subscriber - customer ) is 5 pm and 8 am "
   ]
  },
  {
   "cell_type": "code",
   "execution_count": 42,
   "metadata": {},
   "outputs": [
    {
     "data": {
      "image/png": "[encoded data removed]",
      "text/plain": [
       "<matplotlib.figure.Figure at 0x7f16dc4fdf98>"
      ]
     },
     "metadata": {
      "needs_background": "light"
     },
     "output_type": "display_data"
    }
   ],
   "source": [
    "#get the count of member gender in each start_hour then plot a horizontal bar chart\n",
    "plt.figure(figsize=[20, 10])\n",
    "freq4 = df['start_hour'].value_counts()\n",
    "gen_order4 = freq4.index\n",
    "sb.countplot(data=df, x='start_hour', hue ='member_gender' , order=gen_order4 );\n",
    " "
   ]
  },
  {
   "cell_type": "markdown",
   "metadata": {},
   "source": [
    "    - peak hour for male riders is 5 pm \n",
    "    \n",
    "    - peak hour for female riders is 8 am \n"
   ]
  },
  {
   "cell_type": "code",
   "execution_count": 44,
   "metadata": {},
   "outputs": [
    {
     "data": {
      "image/png": "[encoded data removed]",
      "text/plain": [
       "<matplotlib.figure.Figure at 0x7f16dc790908>"
      ]
     },
     "metadata": {
      "needs_background": "light"
     },
     "output_type": "display_data"
    }
   ],
   "source": [
    "#top most frequent start stations\n",
    "start = df.start_station_name.value_counts()[0:5].sort_values()\n",
    "start.plot(kind = 'barh')\n",
    "plt.title('Top 5 starting stations ')\n",
    "plt.xlabel('Count')\n",
    "plt.ylabel('station Name');"
   ]
  },
  {
   "cell_type": "markdown",
   "metadata": {},
   "source": [
    "    - Top most frequent start stations"
   ]
  },
  {
   "cell_type": "code",
   "execution_count": 33,
   "metadata": {},
   "outputs": [
    {
     "data": {
      "image/png": "[encoded data removed]",
      "text/plain": [
       "<matplotlib.figure.Figure at 0x7ffb0b247358>"
      ]
     },
     "metadata": {
      "needs_background": "light"
     },
     "output_type": "display_data"
    }
   ],
   "source": [
    "#top most frequent end stations\n",
    "end = df.end_station_name.value_counts()[0:5].sort_values()\n",
    "end.plot(kind = 'barh')\n",
    "plt.title('Top 5 end stations ')\n",
    "plt.xlabel('Count')\n",
    "plt.ylabel('station Name');"
   ]
  },
  {
   "cell_type": "markdown",
   "metadata": {},
   "source": [
    "    - Top most frequent end stations"
   ]
  },
  {
   "cell_type": "code",
   "execution_count": 34,
   "metadata": {},
   "outputs": [
    {
     "data": {
      "image/png": "[encoded data removed]",
      "text/plain": [
       "<matplotlib.figure.Figure at 0x7ffb0b1ffa20>"
      ]
     },
     "metadata": {
      "needs_background": "light"
     },
     "output_type": "display_data"
    }
   ],
   "source": [
    "#Top 5 Age groups Vs member gender   \n",
    "group = df.groupby(['member_gender'])['age_group'].value_counts().sort_values()\n",
    "group[13:].plot(kind = 'barh' ,stacked=True)\n",
    "plt.xlabel('Count')\n",
    "plt.ylabel('Age Group')\n",
    "plt.title('Top 5 Age groups Vs member gender ');\n",
    " \n"
   ]
  },
  {
   "cell_type": "markdown",
   "metadata": {},
   "source": [
    "\n",
    "    - This figure shows the Male Adults (age from 18- 35) & (age from 35-50) are the top bikeshare users \n",
    "    \n",
    "    - Females Adults (age from 18- 35) achieved the third rank.\n",
    "    \n",
    "    - Overall conclusion:  Males are the most frequesnt users of  GoFord Bike share service\n",
    "\n"
   ]
  },
  {
   "cell_type": "code",
   "execution_count": 35,
   "metadata": {},
   "outputs": [
    {
     "data": {
      "image/png": "[encoded data removed]",
      "text/plain": [
       "<matplotlib.figure.Figure at 0x7ffb0b276d30>"
      ]
     },
     "metadata": {
      "needs_background": "light"
     },
     "output_type": "display_data"
    }
   ],
   "source": [
    "# member gender Vs User Type\n",
    "group2 = df.groupby(['user_type'])['member_gender'].value_counts().sort_values()\n",
    "group2[0:4].plot(kind = 'barh' ,stacked=True)\n",
    "plt.xlabel('Count')\n",
    "plt.ylabel('member gender')\n",
    "plt.title(' member gender Vs User Type ');"
   ]
  },
  {
   "cell_type": "code",
   "execution_count": 36,
   "metadata": {},
   "outputs": [
    {
     "data": {
      "image/png": "[encoded data removed]",
      "text/plain": [
       "<matplotlib.figure.Figure at 0x7ffb0b23cdd8>"
      ]
     },
     "metadata": {
      "needs_background": "light"
     },
     "output_type": "display_data"
    }
   ],
   "source": [
    "# member gender Vs trip duration_min\n",
    "freq5 =df.groupby(['member_gender'])['duration_min'].mean().sort_values(ascending = False) \n",
    "freq5[0:4].plot(kind = 'bar')\n",
    "plt.xlabel('member gender')\n",
    "plt.ylabel(' trip duration in minutes  ')\n",
    "plt.title('  average trip duration in minutes per each member gender ');"
   ]
  },
  {
   "cell_type": "code",
   "execution_count": 37,
   "metadata": {},
   "outputs": [
    {
     "data": {
      "image/png": "[encoded data removed]",
      "text/plain": [
       "<matplotlib.figure.Figure at 0x7ffb0b1fb358>"
      ]
     },
     "metadata": {
      "needs_background": "light"
     },
     "output_type": "display_data"
    }
   ],
   "source": [
    "# user type Vs User Type\n",
    "freq6 = df.groupby(['user_type'])['duration_min'].mean().sort_values(ascending = False)\n",
    " \n",
    "freq6.plot(kind = 'bar')\n",
    "plt.xlabel('user type ')\n",
    "plt.ylabel(' trip duration in minutes  ')\n",
    "plt.title('  average trip duration in minutes per each user typer ');"
   ]
  },
  {
   "cell_type": "markdown",
   "metadata": {},
   "source": [
    "    - subscribers are more often using bike share service for short duration trips"
   ]
  },
  {
   "cell_type": "code",
   "execution_count": 38,
   "metadata": {},
   "outputs": [
    {
     "data": {
      "image/png": "[encoded data removed]",
      "text/plain": [
       "<matplotlib.figure.Figure at 0x7ffb0b362518>"
      ]
     },
     "metadata": {
      "needs_background": "light"
     },
     "output_type": "display_data"
    }
   ],
   "source": [
    "# age group Vs duration_min\n",
    "freq7 = df.groupby(['age_group'])['duration_min'].mean().sort_values(ascending = False)\n",
    " \n",
    "freq7.plot(kind = 'bar')\n",
    "plt.xlabel('age_group ')\n",
    "plt.ylabel(' trip duration in minutes  ')\n",
    "plt.title('  average trip duration in minutes per each age_group ');"
   ]
  },
  {
   "cell_type": "markdown",
   "metadata": {},
   "source": [
    "## Multivariate Exploration\n",
    "\n"
   ]
  },
  {
   "cell_type": "code",
   "execution_count": 52,
   "metadata": {},
   "outputs": [
    {
     "data": {
      "image/png": "[encoded data removed]",
      "text/plain": [
       "<matplotlib.figure.Figure at 0x7f16e20826a0>"
      ]
     },
     "metadata": {
      "needs_background": "light"
     },
     "output_type": "display_data"
    }
   ],
   "source": [
    " sb.factorplot(data=df ,x='start_hour',col='age_group',hue='user_type',sharey= False ,col_wrap= 2 ,aspect=2\n",
    "              ,kind ='count',legend_out=True);"
   ]
  },
  {
   "cell_type": "code",
   "execution_count": 53,
   "metadata": {},
   "outputs": [
    {
     "data": {
      "image/png": "[encoded data removed]",
      "text/plain": [
       "<matplotlib.figure.Figure at 0x7f16dc6d4828>"
      ]
     },
     "metadata": {
      "needs_background": "light"
     },
     "output_type": "display_data"
    }
   ],
   "source": [
    " sb.factorplot(data=df ,x='start_hour',col='age_group',hue='member_gender' ,sharey= False ,col_wrap= 2 ,aspect =2\n",
    "              ,kind ='count' ,legend_out=True);"
   ]
  },
  {
   "cell_type": "markdown",
   "metadata": {},
   "source": [
    "    - the first figure shows Hour of the trip for each age group Vs user type \n",
    "    - the second figure shows Hour of the trip for each age group Vs Gender \n",
    "    \n"
   ]
  },
  {
   "cell_type": "markdown",
   "metadata": {},
   "source": [
    "### Talk about some of the relationships you observed in this part of the investigation. Were there features that strengthened each other in terms of looking at your feature(s) of interest?\n",
    "\n",
    "    - Adult Males of ages [18-35] are the most frequent user from both user types ( subscriber - customer) \n",
    "    - Males peak hours in all user types categories is 8 am and 5 pm \n",
    "    - Females peak hours in all user types categories is 8 am and 5 pm \n",
    "    \n",
    "    \n",
    "### Were there any interesting or surprising interactions between features?\n",
    "\n",
    "    - I don't think so because the numeric values here are discrete. "
   ]
  }
 ],
 "metadata": {
  "kernelspec": {
   "display_name": "Python 3",
   "language": "python",
   "name": "python3"
  },
  "language_info": {
   "codemirror_mode": {
    "name": "ipython",
    "version": 3
   },
   "file_extension": ".py",
   "mimetype": "text/x-python",
   "name": "python",
   "nbconvert_exporter": "python",
   "pygments_lexer": "ipython3",
   "version": "3.6.3"
  }
 },
 "nbformat": 4,
 "nbformat_minor": 2
}
